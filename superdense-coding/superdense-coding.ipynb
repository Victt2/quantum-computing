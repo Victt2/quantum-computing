{
 "cells": [
  {
   "cell_type": "code",
   "execution_count": 1,
   "metadata": {},
   "outputs": [],
   "source": [
    "import qiskit\n",
    "from qiskit import QuantumCircuit, ClassicalRegister, QuantumRegister, Aer, execute\n",
    "chip_simulator = Aer.get_backend(\"qasm_simulator\")"
   ]
  },
  {
   "cell_type": "code",
   "execution_count": 2,
   "metadata": {},
   "outputs": [
    {
     "data": {
      "image/png": "[encoded data removed]",
      "text/plain": [
       "<Figure size 780.192x204.68 with 1 Axes>"
      ]
     },
     "execution_count": 2,
     "metadata": {},
     "output_type": "execute_result"
    }
   ],
   "source": [
    "Alice = QuantumRegister(1, \"a\") # qubit de Alice\n",
    "Bob = QuantumRegister(1, \"b\") # qubit de Bob\n",
    "bits = ClassicalRegister(2) # bits de información clásica\n",
    "qc = QuantumCircuit(Alice, Bob, bits)\n",
    "\n",
    "code = \"10\" # bits que Alice quiere transmitir a Bob\n",
    "\n",
    "qc.h(0)\n",
    "qc.cx(0,1)\n",
    "qc.barrier()\n",
    "\n",
    "if code == \"00\":\n",
    "    qc.iden(0)\n",
    "elif code == \"01\":\n",
    "    qc.z(0)\n",
    "elif code == \"10\":\n",
    "    qc.x(0)\n",
    "else:\n",
    "    qc.y(0)\n",
    "qc.barrier()\n",
    "\n",
    "qc.cx(0,1)\n",
    "qc.h(0)\n",
    "qc.barrier()\n",
    "\n",
    "qc.measure(0,0)\n",
    "qc.measure(1,1)\n",
    "\n",
    "qc.draw(output = \"mpl\")"
   ]
  },
  {
   "cell_type": "code",
   "execution_count": 12,
   "metadata": {},
   "outputs": [
    {
     "name": "stdout",
     "output_type": "stream",
     "text": [
      "Alice quería enviarle el mensaje 10 a Bob.\n",
      "Y por medio del protocolo de superdense coding, este recibió la cadena {'10': 1000}\n"
     ]
    }
   ],
   "source": [
    "print(\"Alice quería enviarle el mensaje \" + code + \" a Bob.\")\n",
    "print(\"Y por medio del protocolo de superdense coding, este recibió la cadena \", end = '')\n",
    "print(execute(qc, chip_simulator, shots=1000).result().get_counts())"
   ]
  },
  {
   "cell_type": "code",
   "execution_count": 17,
   "metadata": {},
   "outputs": [
    {
     "data": {
      "text/plain": [
       "dict_keys(['10'])"
      ]
     },
     "execution_count": 17,
     "metadata": {},
     "output_type": "execute_result"
    }
   ],
   "source": [
    "(execute(qc, chip_simulator, shots=1000).result().get_counts().keys())"
   ]
  }
 ],
 "metadata": {
  "kernelspec": {
   "display_name": "Python 3",
   "language": "python",
   "name": "python3"
  },
  "language_info": {
   "codemirror_mode": {
    "name": "ipython",
    "version": 3
   },
   "file_extension": ".py",
   "mimetype": "text/x-python",
   "name": "python",
   "nbconvert_exporter": "python",
   "pygments_lexer": "ipython3",
   "version": "3.7.4"
  }
 },
 "nbformat": 4,
 "nbformat_minor": 2
}
